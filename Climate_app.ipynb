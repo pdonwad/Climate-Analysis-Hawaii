{
 "cells": [
  {
   "cell_type": "code",
   "execution_count": null,
   "metadata": {
    "collapsed": true
   },
   "outputs": [],
   "source": [
    "import datetime as dt\n",
    "import numpy as np\n",
    "import pandas as pd\n",
    "import os\n",
    "import sqlalchemy\n",
    "from sqlalchemy.ext.automap import automap_base\n",
    "from sqlalchemy.orm import Session\n",
    "from sqlalchemy import create_engine, func\n",
    "\n",
    "from flask import Flask, jsonify"
   ]
  },
  {
   "cell_type": "code",
   "execution_count": null,
   "metadata": {
    "collapsed": true
   },
   "outputs": [],
   "source": [
    "\n",
    "# Database Setup\n",
    "\n",
    "engine = create_engine(os.path.join(\"sqlite:///Resources/\",\"hawaii.db\"),echo=False)\n",
    "\n",
    "# reflect an existing database into a new model\n",
    "\n",
    "Base = automap_base()\n",
    "# reflect the tables\n",
    "Base.prepare(engine, reflect=True)\n",
    "\n",
    "# Save reference to the table\n",
    "\n",
    "measurements = Base.classes.Measurements\n",
    "stations= Base.classes.Stations\n",
    "\n",
    "# Create our session (link) from Python to the DB\n",
    "\n",
    "session = Session(engine)\n"
   ]
  },
  {
   "cell_type": "code",
   "execution_count": null,
   "metadata": {
    "collapsed": true
   },
   "outputs": [],
   "source": [
    "\n",
    "# Flask Setup\n",
    "\n",
    "app = Flask(__name__)\n"
   ]
  },
  {
   "cell_type": "code",
   "execution_count": null,
   "metadata": {
    "collapsed": true
   },
   "outputs": [],
   "source": [
    "\n",
    "# Flask Routes\n",
    "\n",
    "@app.route(\"/\")\n",
    "def welcome():\n",
    "    \"\"\"List all available api routes.\"\"\"\n",
    "    return (\n",
    "        f\"Available Routes:<br/>\"\n",
    "        f\"/api/v1.0/precipitation<br/>\"\n",
    "        f\"/api/v1.0/stations<br/>\"\n",
    "        f\"/api/v1.0/tobs<br/>\"\n",
    "        f\"/api/v1.0/<start><br/>\"\n",
    "        f\"/api/v1.0/<start>/<end>\"\n",
    "\n",
    "    )"
   ]
  },
  {
   "cell_type": "code",
   "execution_count": null,
   "metadata": {},
   "outputs": [],
   "source": [
    "\n",
    "#Router for precipitation\n",
    "\n",
    "@app.route(\"/api/v1.0/precipitation\")\n",
    "def prcp():\n",
    "    \n",
    "#use query to retrieve data\n",
    "\n",
    "    result = session.execute(\"SELECT max(date) FROM measurements order by date \").first()\n",
    "    new_d=result[0]\n",
    "    month=new_d.split(\"-\")[2]\n",
    "    date=new_d.split(\"-\")[1]\n",
    "    year=new_d.split(\"-\")[0]\n",
    "    y=int(year)-1\n",
    "    new_date=str(y)+\"-\"+date+\"-\"+month\n",
    "    precip_qry = session.query(stations.name,measurements.date, measurements.prcp).filter(measurements.date>=new_date).order_by(measurements.date).all()\n",
    "\n",
    "#results = session.query(Passenger.name).all()\n",
    "\n",
    "precip_list=[]\n",
    "for d in precip_qry:\n",
    "    precip_list.append({\"Station\": d[0], \"Date\": d[1], \"Precipitation\": d[2]})\n",
    "return jsonify(precip_list)\n"
   ]
  },
  {
   "cell_type": "code",
   "execution_count": null,
   "metadata": {
    "collapsed": true
   },
   "outputs": [],
   "source": [
    "\n",
    "@app.route(\"/api/v1.0/stations\")\n",
    "def stations():\n",
    "\n",
    "    results = session.execute(\"SELECT  distinct station,name FROM stations \").fetchall()\n",
    "    all_stations = list(np.ravel(results))\n",
    "    return jsonify(all_stations)"
   ]
  },
  {
   "cell_type": "code",
   "execution_count": null,
   "metadata": {
    "collapsed": true
   },
   "outputs": [],
   "source": [
    "@app.route(\"/api/v1.0/tobs\")\n",
    "def tobs():\n",
    "\tresult_date = session.execute(\"SELECT max(date) FROM measurements order by date \").first()\n",
    "\tnew_d=result_date[0]\n",
    "\tmonth=new_d.split(\"-\")[2]\n",
    "\tdate=new_d.split(\"-\")[1]\n",
    "\tyear=new_d.split(\"-\")[0]\n",
    "\ty=int(year)-1\n",
    "\tnew_date=str(y)+\"-\"+date+\"-\"+month\n",
    "\ttemp_qry = session.query(measurements.station,measurements.date, measurements.tobs).filter(measurements.date>=new_date).order_by(measurements.date).all()\n",
    "\t#results = session.query(Passenger.name).all()\n",
    "\ttemp_list=[]\n",
    "\tfor t in temp_qry:\n",
    "\t\ttemp_list.append({\"Station\": t[0], \"Date\": t[1], \"Temprature\": t[2]})\n",
    "\n",
    "\treturn jsonify(temp_list)"
   ]
  },
  {
   "cell_type": "code",
   "execution_count": null,
   "metadata": {},
   "outputs": [],
   "source": [
    "@app.route(\"/api/v1.0/<start_date>\")\n",
    "def start_temp(start_date):\n",
    "    temp_stat=[]\n",
    "    newtemp_qry=session.query(measurements.date, measurements.tobs).filter(measurements.date>=start_date).order_by(measurements.date)\n",
    "    temp_df = pd.read_sql(newtemp_qry.statement, newtemp_qry.session.bind)\n",
    "\n",
    "    max_temp=temp_df[\"tobs\"].max()\n",
    "    min_temp=temp_df[\"tobs\"].min()\n",
    "    avg_temp=temp_df[\"tobs\"].mean()\n",
    "\n",
    "    temp_stat.append({\"Maximum\":str(max_temp),\"Minimum\":str(min_temp),\"Average\":str(avg_temp)})\n",
    "\n",
    "    #return str(max_temp)\n",
    "    return jsonify(temp_stat)"
   ]
  },
  {
   "cell_type": "code",
   "execution_count": null,
   "metadata": {},
   "outputs": [],
   "source": [
    "@app.route(\"/api/v1.0/<start_date>/<end_date>\")\n",
    "def start_end_temp(start_date,end_date):\n",
    "\ttemp_stat=[]\n",
    "\tnewtemp_qry=session.query(measurements.date, measurements.tobs).filter(measurements.date.between(start_date,end_date)).order_by(measurements.date)\n",
    "\ttemp_df = pd.read_sql(newtemp_qry.statement, newtemp_qry.session.bind)\n",
    "\n",
    "\tmax_temp=temp_df[\"tobs\"].max()\n",
    "\tmin_temp=temp_df[\"tobs\"].min()\n",
    "\tavg_temp=temp_df[\"tobs\"].mean()\n",
    "\n",
    "\n",
    "\ttemp_stat.append({\"Maximum\":str(max_temp),\"Minimum\":str(min_temp),\"Average\":str(avg_temp)})\n",
    "\t\n",
    "\t#return str(max_temp)\n",
    "\treturn jsonify(temp_stat)\n",
    "\n",
    "if __name__ == '__main__':\n",
    "    app.run(debug=True,port=3316)"
   ]
  },
  {
   "cell_type": "code",
   "execution_count": null,
   "metadata": {
    "collapsed": true
   },
   "outputs": [],
   "source": []
  }
 ],
 "metadata": {
  "kernelspec": {
   "display_name": "Python 3",
   "language": "python",
   "name": "python3"
  },
  "language_info": {
   "codemirror_mode": {
    "name": "ipython",
    "version": 3
   },
   "file_extension": ".py",
   "mimetype": "text/x-python",
   "name": "python",
   "nbconvert_exporter": "python",
   "pygments_lexer": "ipython3",
   "version": "3.6.3"
  }
 },
 "nbformat": 4,
 "nbformat_minor": 2
}
